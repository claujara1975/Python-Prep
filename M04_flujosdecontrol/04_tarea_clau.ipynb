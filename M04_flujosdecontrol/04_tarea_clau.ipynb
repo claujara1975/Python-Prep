{
 "cells": [
  {
   "attachments": {},
   "cell_type": "markdown",
   "metadata": {},
   "source": [
    "## Flujos de Control"
   ]
  },
  {
   "attachments": {},
   "cell_type": "markdown",
   "metadata": {},
   "source": [
    "1) Crear una variable que contenga un elemento del conjunto de números enteros y luego imprimir por pantalla si es mayor o menor a cero"
   ]
  },
  {
   "cell_type": "code",
   "execution_count": 1,
   "metadata": {},
   "outputs": [
    {
     "name": "stdout",
     "output_type": "stream",
     "text": [
      "La variable -7 es menor que cero\n"
     ]
    }
   ],
   "source": [
    "elemento = -7\n",
    "if (elemento < 0):\n",
    "    print(f\"La variable {elemento} es menor que cero\")\n",
    "elif (elemento > 0):\n",
    "    print(f\"La variable {elemento} es mayor que cero\")\n",
    "else:\n",
    "    print(f\"La variable {elemento} es igual que cero\")"
   ]
  },
  {
   "attachments": {},
   "cell_type": "markdown",
   "metadata": {},
   "source": [
    "2) Crear dos variables y un condicional que informe si son del mismo tipo de dato"
   ]
  },
  {
   "cell_type": "code",
   "execution_count": 2,
   "metadata": {},
   "outputs": [
    {
     "name": "stdout",
     "output_type": "stream",
     "text": [
      "Las variables claudia y 7 no son del mismo tipo de datos\n"
     ]
    }
   ],
   "source": [
    "# Este método solo verifica si las variables tienen el mismo tipo de dato.\n",
    "# No compara específicamente el tipo de dato.\n",
    "var1 = 'claudia'\n",
    "var2 = 7\n",
    "if type(var1) == type(var2):\n",
    "    print(f\"Las variables {var1} y {var2} son del mismo tipo de datos\")\n",
    "else:\n",
    "    print(f\"Las variables {var1} y {var2} no son del mismo tipo de datos\")"
   ]
  },
  {
   "attachments": {},
   "cell_type": "markdown",
   "metadata": {},
   "source": [
    "3) Para los valores enteros del 1 al 20, imprimir por pantalla si es par o impar"
   ]
  },
  {
   "cell_type": "code",
   "execution_count": 5,
   "metadata": {},
   "outputs": [
    {
     "name": "stdout",
     "output_type": "stream",
     "text": [
      "El número  1 es impar\n",
      "El número  2 es par\n",
      "El número  3 es impar\n",
      "El número  4 es par\n",
      "El número  5 es impar\n",
      "El número  6 es par\n",
      "El número  7 es impar\n",
      "El número  8 es par\n",
      "El número  9 es impar\n",
      "El número  10 es par\n",
      "El número  11 es impar\n",
      "El número  12 es par\n",
      "El número  13 es impar\n",
      "El número  14 es par\n",
      "El número  15 es impar\n",
      "El número  16 es par\n",
      "El número  17 es impar\n",
      "El número  18 es par\n",
      "El número  19 es impar\n",
      "El número  20 es par\n"
     ]
    }
   ],
   "source": [
    "for n in range(1, 21):\n",
    "    if n % 2 == 0:\n",
    "        print('El número ',n, 'es par')\n",
    "    else:\n",
    "        print('El número ',n, 'es impar')"
   ]
  },
  {
   "cell_type": "code",
   "execution_count": 6,
   "metadata": {},
   "outputs": [
    {
     "name": "stdout",
     "output_type": "stream",
     "text": [
      "El número  1  es impar\n",
      "El número  2  es par\n",
      "El número  3  es impar\n",
      "El número  4  es par\n",
      "El número  5  es impar\n",
      "El número  6  es par\n",
      "El número  7  es impar\n",
      "El número  8  es par\n",
      "El número  9  es impar\n",
      "El número  10  es par\n",
      "El número  11  es impar\n",
      "El número  12  es par\n",
      "El número  13  es impar\n",
      "El número  14  es par\n",
      "El número  15  es impar\n",
      "El número  16  es par\n",
      "El número  17  es impar\n",
      "El número  18  es par\n",
      "El número  19  es impar\n",
      "El número  20  es par\n"
     ]
    }
   ],
   "source": [
    "for i in range(1, 21):\n",
    "    if i % 2 == 0:\n",
    "        print('El número ', i, ' es par')\n",
    "    else:\n",
    "        print('El número ', i, ' es impar')\n"
   ]
  },
  {
   "cell_type": "code",
   "execution_count": 7,
   "metadata": {},
   "outputs": [
    {
     "name": "stdout",
     "output_type": "stream",
     "text": [
      "El número  1  es impar\n",
      "El número  2  es par\n",
      "El número  3  es impar\n",
      "El número  4  es par\n",
      "El número  5  es impar\n",
      "El número  6  es par\n",
      "El número  7  es impar\n",
      "El número  8  es par\n",
      "El número  9  es impar\n",
      "El número  10  es par\n",
      "El número  11  es impar\n",
      "El número  12  es par\n",
      "El número  13  es impar\n",
      "El número  14  es par\n",
      "El número  15  es impar\n",
      "El número  16  es par\n",
      "El número  17  es impar\n",
      "El número  18  es par\n",
      "El número  19  es impar\n",
      "El número  20  es par\n"
     ]
    }
   ],
   "source": [
    "for i in range(1, 21):\n",
    "    if i % 2 == 0:\n",
    "        print('El número ', str(i), ' es par')\n",
    "    else:\n",
    "        print('El número ', str(i), ' es impar')"
   ]
  },
  {
   "cell_type": "code",
   "execution_count": 8,
   "metadata": {},
   "outputs": [
    {
     "name": "stdout",
     "output_type": "stream",
     "text": [
      "El número  1 es impar\n",
      "El número  2 es par\n",
      "El número  3 es impar\n",
      "El número  4 es par\n",
      "El número  5 es impar\n",
      "El número  6 es par\n",
      "El número  7 es impar\n",
      "El número  8 es par\n",
      "El número  9 es impar\n",
      "El número  10 es par\n",
      "El número  11 es impar\n",
      "El número  12 es par\n",
      "El número  13 es impar\n",
      "El número  14 es par\n",
      "El número  15 es impar\n",
      "El número  16 es par\n",
      "El número  17 es impar\n",
      "El número  18 es par\n",
      "El número  19 es impar\n",
      "El número  20 es par\n"
     ]
    }
   ],
   "source": [
    "n = 1\n",
    "while (n <= 20):\n",
    "    if n % 2 == 0:\n",
    "        print('El número ', n , 'es par')\n",
    "    else:\n",
    "        print('El número ', n, 'es impar')\n",
    "    n+=1"
   ]
  },
  {
   "attachments": {},
   "cell_type": "markdown",
   "metadata": {},
   "source": [
    "4) En un ciclo for mostrar para los valores entre 0 y 5 el resultado de elevarlo a la potencia igual a 3"
   ]
  },
  {
   "cell_type": "code",
   "execution_count": 11,
   "metadata": {},
   "outputs": [
    {
     "name": "stdout",
     "output_type": "stream",
     "text": [
      "La potencia cubica de 0 es: 0\n",
      "La potencia cubica de 1 es: 1\n",
      "La potencia cubica de 2 es: 8\n",
      "La potencia cubica de 3 es: 27\n",
      "La potencia cubica de 4 es: 64\n",
      "La potencia cubica de 5 es: 125\n"
     ]
    }
   ],
   "source": [
    "for i in range(0, 6):\n",
    "    print(f'La potencia cubica de {i} es: {i**3}')"
   ]
  },
  {
   "attachments": {},
   "cell_type": "markdown",
   "metadata": {},
   "source": [
    "5) Crear una variable que contenga un número entero y realizar un ciclo for la misma cantidad de ciclos"
   ]
  },
  {
   "cell_type": "code",
   "execution_count": 10,
   "metadata": {},
   "outputs": [
    {
     "name": "stdout",
     "output_type": "stream",
     "text": [
      "0\n",
      "1\n",
      "2\n",
      "3\n",
      "4\n",
      "5\n",
      "6\n",
      "7\n",
      "8\n",
      "9\n"
     ]
    }
   ],
   "source": [
    "n = 10\n",
    "for i in range(n):\n",
    "    print(i)"
   ]
  },
  {
   "attachments": {},
   "cell_type": "markdown",
   "metadata": {},
   "source": [
    "6) Utilizar un ciclo while para realizar el factorial de un número guardado en una variable, sólo si la variable contiene un número entero mayor a 0"
   ]
  },
  {
   "cell_type": "code",
   "execution_count": 12,
   "metadata": {},
   "outputs": [
    {
     "name": "stdout",
     "output_type": "stream",
     "text": [
      "El factorial es:  5040\n"
     ]
    }
   ],
   "source": [
    "# ciclo while\n",
    "n = 7\n",
    "if type(n) == int:                          # Veo si el número es entero.\n",
    "    if n > 0:                               # veo si el número es mayor que cero.\n",
    "        factorial =  n                      # Me toma el número ingresado.\n",
    "        while n > 2:                        # Entra en el ciclo while.\n",
    "            n -= 1                          # Le resto 1 alnumero ingresado.         \n",
    "            factorial = factorial * n       # El factorial multiplica todos los numeros de 1 hasta n.\n",
    "        print('El factorial es: ', factorial)\n",
    "    else:\n",
    "        print(f'El número {n} no es mayor que cero')\n",
    "else:\n",
    "    print(f'El número {n} no es un entero')"
   ]
  },
  {
   "cell_type": "code",
   "execution_count": 13,
   "metadata": {},
   "outputs": [
    {
     "name": "stdout",
     "output_type": "stream",
     "text": [
      "120\n"
     ]
    }
   ],
   "source": [
    "# ciclo for\n",
    "numero = 5\n",
    "factorial = 1\n",
    "for i in range(2, (numero + 1)):\n",
    "    factorial = i * factorial\n",
    "print(factorial)"
   ]
  },
  {
   "attachments": {},
   "cell_type": "markdown",
   "metadata": {},
   "source": [
    "7) Crear un ciclo for dentro de un ciclo while"
   ]
  },
  {
   "cell_type": "code",
   "execution_count": 14,
   "metadata": {},
   "outputs": [
    {
     "name": "stdout",
     "output_type": "stream",
     "text": [
      "CICLO WHILE N°: 1\n",
      "                     Ciclo for n°: 1\n",
      "                     Ciclo for n°: 2\n",
      "CICLO WHILE N°: 2\n",
      "                     Ciclo for n°: 1\n",
      "                     Ciclo for n°: 2\n",
      "CICLO WHILE N°: 3\n",
      "                     Ciclo for n°: 1\n",
      "                     Ciclo for n°: 2\n",
      "CICLO WHILE N°: 4\n",
      "                     Ciclo for n°: 1\n",
      "                     Ciclo for n°: 2\n"
     ]
    }
   ],
   "source": [
    "contador = 1\n",
    "while contador < 5:\n",
    "    print('CICLO WHILE N°:', contador)\n",
    "    for i in range(1,3):\n",
    "        print('                     Ciclo for n°:', i)\n",
    "    contador += 1"
   ]
  },
  {
   "attachments": {},
   "cell_type": "markdown",
   "metadata": {},
   "source": [
    "8) Crear un ciclo while dentro de un ciclo for"
   ]
  },
  {
   "cell_type": "code",
   "execution_count": 22,
   "metadata": {},
   "outputs": [
    {
     "name": "stdout",
     "output_type": "stream",
     "text": [
      "CICLO FOR N°: 1\n",
      "                while for n°: 0\n",
      "                while for n°: 1\n",
      "                while for n°: 2\n",
      "                while for n°: 3\n",
      "                while for n°: 4\n",
      "\n",
      "CICLO FOR N°: 2\n",
      "                while for n°: 0\n",
      "                while for n°: 1\n",
      "                while for n°: 2\n",
      "                while for n°: 3\n",
      "                while for n°: 4\n",
      "\n",
      "CICLO FOR N°: 3\n",
      "                while for n°: 0\n",
      "                while for n°: 1\n",
      "                while for n°: 2\n",
      "                while for n°: 3\n",
      "                while for n°: 4\n",
      "\n",
      "CICLO FOR N°: 4\n",
      "                while for n°: 0\n",
      "                while for n°: 1\n",
      "                while for n°: 2\n",
      "                while for n°: 3\n",
      "                while for n°: 4\n",
      "\n"
     ]
    }
   ],
   "source": [
    "n = 5\n",
    "for i in range(1,n):\n",
    "    print('CICLO FOR N°:', i)\n",
    "    j = 0\n",
    "    while j < n:\n",
    "        print('                while for n°:', j)\n",
    "        j += 1\n",
    "    print()"
   ]
  },
  {
   "cell_type": "code",
   "execution_count": 20,
   "metadata": {},
   "outputs": [
    {
     "name": "stdout",
     "output_type": "stream",
     "text": [
      "Ciclo for nro 1\n",
      "     Ciclo while nro 4\n",
      "     Ciclo while nro 3\n",
      "     Ciclo while nro 2\n",
      "     Ciclo while nro 1\n",
      "Ciclo for nro 2\n",
      "     Ciclo while nro 4\n",
      "     Ciclo while nro 3\n",
      "     Ciclo while nro 2\n",
      "     Ciclo while nro 1\n",
      "Ciclo for nro 3\n",
      "     Ciclo while nro 4\n",
      "     Ciclo while nro 3\n",
      "     Ciclo while nro 2\n",
      "     Ciclo while nro 1\n"
     ]
    }
   ],
   "source": [
    "n = 4\n",
    "for i in range(1, n):\n",
    "    print('Ciclo for nro ' + str(i))                 # Imprime el número del ciclo for\n",
    "    n_temp = n                                       # Almacena el valor original de n en una variable temporal\n",
    "    while n_temp > 0:                                # Ciclo while que se ejecuta mientras n_temp sea mayor que 0\n",
    "        print('     Ciclo while nro ' + str(n_temp)) # Imprime el número del ciclo while\n",
    "        n_temp -= 1\n",
    "        if n_temp <= 0:\n",
    "            break                                    # Sale del ciclo while cuando n_temp sea menor o igual a 0"
   ]
  },
  {
   "attachments": {},
   "cell_type": "markdown",
   "metadata": {},
   "source": [
    "9) Imprimir los números primos existentes entre 0 y 30"
   ]
  },
  {
   "cell_type": "code",
   "execution_count": 23,
   "metadata": {},
   "outputs": [
    {
     "name": "stdout",
     "output_type": "stream",
     "text": [
      "El número 0 no es primo\n",
      "El número 1 no es primo\n",
      "El número 2 es primo\n",
      "El número 3 es primo\n",
      "El número 5 es primo\n",
      "El número 7 es primo\n",
      "El número 11 es primo\n",
      "El número 13 es primo\n",
      "El número 17 es primo\n",
      "El número 19 es primo\n",
      "El número 23 es primo\n",
      "El número 29 es primo\n"
     ]
    }
   ],
   "source": [
    "n = 0\n",
    "primo = True\n",
    "while n < 31:\n",
    "    for div in range(2,n):\n",
    "        if n % div == 0:\n",
    "            primo = False\n",
    "    if primo:\n",
    "        if n > 1:\n",
    "            print(f'El número {n} es primo')\n",
    "        else:\n",
    "            print(f'El número {n} no es primo')\n",
    "    else:\n",
    "        primo = True\n",
    "    n += 1"
   ]
  },
  {
   "cell_type": "code",
   "execution_count": 24,
   "metadata": {},
   "outputs": [
    {
     "name": "stdout",
     "output_type": "stream",
     "text": [
      "0\n",
      "1\n",
      "2\n",
      "3\n",
      "5\n",
      "7\n",
      "11\n",
      "13\n",
      "17\n",
      "19\n",
      "23\n",
      "29\n"
     ]
    }
   ],
   "source": [
    "tope_rango=30\n",
    "n = 0\n",
    "primo = True\n",
    "while (n < tope_rango):\n",
    "    for div in range(2, n):\n",
    "        if (n % div == 0):\n",
    "            primo = False\n",
    "    if (primo):\n",
    "        print(n)\n",
    "    else:\n",
    "        primo = True\n",
    "    n += 1"
   ]
  },
  {
   "attachments": {},
   "cell_type": "markdown",
   "metadata": {},
   "source": [
    "10) ¿Se puede mejorar el proceso del punto 9? Utilizar las sentencias break y/ó continue para tal fin"
   ]
  },
  {
   "cell_type": "code",
   "execution_count": 25,
   "metadata": {},
   "outputs": [
    {
     "name": "stdout",
     "output_type": "stream",
     "text": [
      "El número 0 no es primo\n",
      "El número 1 no es primo\n",
      "El número 2 es primo\n",
      "El número 3 es primo\n",
      "El número 5 es primo\n",
      "El número 7 es primo\n",
      "El número 11 es primo\n",
      "El número 13 es primo\n",
      "El número 17 es primo\n",
      "El número 19 es primo\n",
      "El número 23 es primo\n",
      "El número 29 es primo\n"
     ]
    }
   ],
   "source": [
    "n = 0\n",
    "primo = True\n",
    "while n < 31:\n",
    "    for div in range(2,n):\n",
    "        if n % div == 0:\n",
    "            primo = False\n",
    "            break\n",
    "    if primo:\n",
    "        if n > 1:\n",
    "            print(f'El número {n} es primo')\n",
    "        else:\n",
    "            print(f'El número {n} no es primo')\n",
    "    else:\n",
    "        primo = True\n",
    "    n += 1"
   ]
  },
  {
   "cell_type": "code",
   "execution_count": 26,
   "metadata": {},
   "outputs": [
    {
     "name": "stdout",
     "output_type": "stream",
     "text": [
      "0\n",
      "1\n",
      "2\n",
      "3\n",
      "5\n",
      "7\n",
      "11\n",
      "13\n",
      "17\n",
      "19\n",
      "23\n",
      "29\n"
     ]
    }
   ],
   "source": [
    "n = 0\n",
    "primo = True\n",
    "while (n < tope_rango):\n",
    "    for div in range(2, n):\n",
    "        if (n % div == 0):\n",
    "            primo = False\n",
    "            break\n",
    "    if (primo):\n",
    "        print(n)\n",
    "    else:\n",
    "        primo = True\n",
    "    n += 1"
   ]
  },
  {
   "attachments": {},
   "cell_type": "markdown",
   "metadata": {},
   "source": [
    "11) En los puntos 9 y 10, se diseño un código que encuentra números primos y además se lo optimizó. ¿Es posible saber en qué medida se optimizó?"
   ]
  },
  {
   "cell_type": "code",
   "execution_count": 31,
   "metadata": {},
   "outputs": [
    {
     "name": "stdout",
     "output_type": "stream",
     "text": [
      "El número 0 no es primo\n",
      "El número 1 no es primo\n",
      "El número 2 es primo\n",
      "El número 3 es primo\n",
      "El número 5 es primo\n",
      "El número 7 es primo\n",
      "El número 11 es primo\n",
      "El número 13 es primo\n",
      "El número 17 es primo\n",
      "El número 19 es primo\n",
      "El número 23 es primo\n",
      "El número 29 es primo\n",
      "Sin usar break, fueron 406 ciclos\n"
     ]
    }
   ],
   "source": [
    "ciclos_sin_break = 0\n",
    "n = 0\n",
    "primo = True\n",
    "while n < 31:\n",
    "    for div in range(2,n):\n",
    "        ciclos_sin_break += 1       # cuenta los ciclos.\n",
    "        if n % div == 0:\n",
    "            primo = False\n",
    "    if primo:\n",
    "        if n > 1:\n",
    "            print(f'El número {n} es primo')\n",
    "        else:\n",
    "            print(f'El número {n} no es primo')\n",
    "    else:\n",
    "        primo = True\n",
    "    n += 1\n",
    "print(f'Sin usar break, fueron {ciclos_sin_break} ciclos')"
   ]
  },
  {
   "cell_type": "code",
   "execution_count": 33,
   "metadata": {},
   "outputs": [
    {
     "name": "stdout",
     "output_type": "stream",
     "text": [
      "El número 0 no es primo\n",
      "El número 1 no es primo\n",
      "El número 2 es primo\n",
      "El número 3 es primo\n",
      "El número 5 es primo\n",
      "El número 7 es primo\n",
      "El número 11 es primo\n",
      "El número 13 es primo\n",
      "El número 17 es primo\n",
      "El número 19 es primo\n",
      "El número 23 es primo\n",
      "El número 29 es primo\n",
      "Usando break, fueron 135 ciclos\n",
      "Se optimizó en un 0.33251231527093594% de ciclos aplicando break\n"
     ]
    }
   ],
   "source": [
    "ciclos_con_break = 0\n",
    "n = 0\n",
    "primo = True\n",
    "while n < 31:\n",
    "    for div in range(2,n):\n",
    "        ciclos_con_break += 1       # cuenta los ciclos.        \n",
    "        if n % div == 0:\n",
    "            primo = False\n",
    "            break\n",
    "    if primo:\n",
    "        if n > 1:\n",
    "            print(f'El número {n} es primo')\n",
    "        else:\n",
    "            print(f'El número {n} no es primo')\n",
    "    else:\n",
    "        primo = True\n",
    "    n += 1\n",
    "print(f'Usando break, fueron {ciclos_con_break} ciclos')\n",
    "print(f'Se optimizó en un {ciclos_con_break/ciclos_sin_break}% de ciclos aplicando break')"
   ]
  },
  {
   "cell_type": "code",
   "execution_count": 34,
   "metadata": {},
   "outputs": [
    {
     "name": "stdout",
     "output_type": "stream",
     "text": [
      "0\n",
      "1\n",
      "2\n",
      "3\n",
      "5\n",
      "7\n",
      "11\n",
      "13\n",
      "17\n",
      "19\n",
      "23\n",
      "29\n",
      "Cantidad de ciclos: 378\n"
     ]
    }
   ],
   "source": [
    "ciclos_sinbreak = 0\n",
    "n = 0\n",
    "primo = True\n",
    "while (n < tope_rango):\n",
    "    for div in range(2, n):\n",
    "        ciclos_sinbreak += 1\n",
    "        if (n % div == 0):\n",
    "            primo = False\n",
    "    if (primo):\n",
    "        print(n)\n",
    "    else:\n",
    "        primo = True\n",
    "    n += 1\n",
    "print('Cantidad de ciclos: ' + str(ciclos_sinbreak))"
   ]
  },
  {
   "cell_type": "code",
   "execution_count": 35,
   "metadata": {},
   "outputs": [
    {
     "name": "stdout",
     "output_type": "stream",
     "text": [
      "0\n",
      "1\n",
      "2\n",
      "3\n",
      "5\n",
      "7\n",
      "11\n",
      "13\n",
      "17\n",
      "19\n",
      "23\n",
      "29\n",
      "Cantidad de ciclos: 134\n",
      "Se optimizó a un 0.3544973544973545% de ciclos aplicando break\n"
     ]
    }
   ],
   "source": [
    "ciclos_conbreak = 0\n",
    "n = 0\n",
    "primo = True\n",
    "while (n < tope_rango):\n",
    "    for div in range(2, n):\n",
    "        ciclos_conbreak += 1\n",
    "        if (n % div == 0):\n",
    "            primo = False\n",
    "            break\n",
    "    if (primo):\n",
    "        print(n)\n",
    "    else:\n",
    "        primo = True\n",
    "    n += 1\n",
    "print('Cantidad de ciclos: ' + str(ciclos_conbreak))\n",
    "print('Se optimizó a un ' + str(ciclos_conbreak/ciclos_sinbreak) + '% de ciclos aplicando break')"
   ]
  },
  {
   "attachments": {},
   "cell_type": "markdown",
   "metadata": {},
   "source": [
    "12) Aplicando continue, armar un ciclo while que solo imprima los valores divisibles por 12, dentro del rango de números de 100 a 300"
   ]
  },
  {
   "cell_type": "code",
   "execution_count": 36,
   "metadata": {},
   "outputs": [
    {
     "name": "stdout",
     "output_type": "stream",
     "text": [
      "El número 108 es divisible por 12\n",
      "El número 120 es divisible por 12\n",
      "El número 132 es divisible por 12\n",
      "El número 144 es divisible por 12\n",
      "El número 156 es divisible por 12\n",
      "El número 168 es divisible por 12\n",
      "El número 180 es divisible por 12\n",
      "El número 192 es divisible por 12\n",
      "El número 204 es divisible por 12\n",
      "El número 216 es divisible por 12\n",
      "El número 228 es divisible por 12\n",
      "El número 240 es divisible por 12\n",
      "El número 252 es divisible por 12\n",
      "El número 264 es divisible por 12\n",
      "El número 276 es divisible por 12\n",
      "El número 288 es divisible por 12\n",
      "El número 300 es divisible por 12\n"
     ]
    }
   ],
   "source": [
    "n = 99\n",
    "while n <= 300:\n",
    "    n += 1\n",
    "    if n % 12 != 0:\n",
    "        continue\n",
    "    print(f'El número {n} es divisible por 12')"
   ]
  },
  {
   "attachments": {},
   "cell_type": "markdown",
   "metadata": {},
   "source": [
    "13) Utilizar la función **input()** que permite hacer ingresos por teclado, para encontrar números primos y dar la opción al usario de buscar el siguiente"
   ]
  },
  {
   "cell_type": "code",
   "execution_count": 37,
   "metadata": {},
   "outputs": [
    {
     "name": "stdout",
     "output_type": "stream",
     "text": [
      "El número 2 es primo\n",
      "¿Desea encontrar el siguiente n° primo?\n",
      "El número 3 es primo\n",
      "¿Desea encontrar el siguiente n° primo?\n",
      "El número 5 es primo\n",
      "¿Desea encontrar el siguiente n° primo?\n",
      "El número 7 es primo\n",
      "¿Desea encontrar el siguiente n° primo?\n",
      "Finaliza el proceso\n"
     ]
    }
   ],
   "source": [
    "n = 2\n",
    "primo = True\n",
    "buscar_primo = True\n",
    "while buscar_primo:\n",
    "    for div in range(2, n):\n",
    "        resto = n % div \n",
    "        if resto == 0:\n",
    "            primo = False\n",
    "            break\n",
    "    if primo:\n",
    "        print(f\"El número {n} es primo\")\n",
    "        print(\"¿Desea encontrar el siguiente n° primo?\")\n",
    "        continuar = input(\"Ingrese 'si' o 'no': \")\n",
    "        if continuar == 'no':\n",
    "            print(\"Finaliza el proceso\")\n",
    "            buscar_primo = False\n",
    "            break\n",
    "    else:\n",
    "        primo = True\n",
    "    n += 1"
   ]
  },
  {
   "attachments": {},
   "cell_type": "markdown",
   "metadata": {},
   "source": [
    "14) Crear un ciclo while que encuentre dentro del rango de 100 a 300 el primer número divisible por 3 y además múltiplo de 6"
   ]
  },
  {
   "cell_type": "code",
   "execution_count": 38,
   "metadata": {},
   "outputs": [
    {
     "name": "stdout",
     "output_type": "stream",
     "text": [
      "El número 102 es divisible por 3 y múltiplo de 6\n"
     ]
    }
   ],
   "source": [
    "n = 100\n",
    "while n <= 300:\n",
    "    if n % 6 == 0:\n",
    "        print(f\"El número {n} es divisible por 3 y múltiplo de 6\")\n",
    "        break\n",
    "    n += 1"
   ]
  }
 ],
 "metadata": {
  "interpreter": {
   "hash": "c85384e4cb51c8b72350f3a8712cc8351fdc3955e32a27f9b60c6242ab125f01"
  },
  "kernelspec": {
   "display_name": "Python 3 (ipykernel)",
   "language": "python",
   "name": "python3"
  },
  "language_info": {
   "codemirror_mode": {
    "name": "ipython",
    "version": 3
   },
   "file_extension": ".py",
   "mimetype": "text/x-python",
   "name": "python",
   "nbconvert_exporter": "python",
   "pygments_lexer": "ipython3",
   "version": "3.11.7"
  }
 },
 "nbformat": 4,
 "nbformat_minor": 4
}
