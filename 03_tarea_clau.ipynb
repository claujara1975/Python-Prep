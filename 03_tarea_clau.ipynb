{
 "cells": [
  {
   "attachments": {},
   "cell_type": "markdown",
   "metadata": {},
   "source": [
    "## Variables"
   ]
  },
  {
   "attachments": {},
   "cell_type": "markdown",
   "metadata": {},
   "source": [
    "1) Crear una variable que contenga un elemento del conjunto de números enteros y luego imprimir por pantalla"
   ]
  },
  {
   "cell_type": "code",
   "execution_count": 1,
   "metadata": {},
   "outputs": [
    {
     "name": "stdout",
     "output_type": "stream",
     "text": [
      "7\n",
      "El número entero es: 7\n"
     ]
    }
   ],
   "source": [
    "a = 7                               # Creo una variable llamada \"a\" que contiene el número entero 7.\n",
    "print(a)                            # Utilizo la función print() para imprimir por pantalla.\n",
    "print(\"El número entero es:\", a)    # Utilizo la función print() para imprimir por pantalla."
   ]
  },
  {
   "attachments": {},
   "cell_type": "markdown",
   "metadata": {},
   "source": [
    "2) Imprimir el tipo de dato de la constante 8.5"
   ]
  },
  {
   "cell_type": "code",
   "execution_count": 2,
   "metadata": {},
   "outputs": [
    {
     "name": "stdout",
     "output_type": "stream",
     "text": [
      "El tipo de dato de 8.5 es: <class 'float'>\n"
     ]
    }
   ],
   "source": [
    "b = 8.5                                         # Defino una variable llamada “b” que contenga el dato dado 8.5.\n",
    "type(b)                                         # Utilizo la función type() para ver el tipo de dato.\n",
    "print(f\"El tipo de dato de {b} es:\", type(b))   # Utilizo la función print() para imprimir por pantalla."
   ]
  },
  {
   "attachments": {},
   "cell_type": "markdown",
   "metadata": {},
   "source": [
    "3) Imprimir el tipo de dato de la variable creada en el punto 1"
   ]
  },
  {
   "cell_type": "code",
   "execution_count": 3,
   "metadata": {},
   "outputs": [
    {
     "data": {
      "text/plain": [
       "int"
      ]
     },
     "execution_count": 3,
     "metadata": {},
     "output_type": "execute_result"
    }
   ],
   "source": [
    "type(a) # Utilizo la función type() para ver el tipo de dato de la variable “a”. \n",
    "# Los escribo por separado para ver que hacen."
   ]
  },
  {
   "cell_type": "code",
   "execution_count": 7,
   "metadata": {},
   "outputs": [
    {
     "name": "stdout",
     "output_type": "stream",
     "text": [
      "El tipo de dato de 7 es: <class 'int'>\n"
     ]
    }
   ],
   "source": [
    "print(f\"El tipo de dato de {a} es:\", type(a))   # Utilizo la función print() para imprimir por pantalla."
   ]
  },
  {
   "attachments": {},
   "cell_type": "markdown",
   "metadata": {},
   "source": [
    "4) Crear una variable que contenga tu nombre"
   ]
  },
  {
   "cell_type": "code",
   "execution_count": 8,
   "metadata": {},
   "outputs": [],
   "source": [
    "mi_nombre = 'Claudia Jara Yañez'    # Creo una variable llamada “mi_nombre” que contiene mi nombre."
   ]
  },
  {
   "cell_type": "code",
   "execution_count": 9,
   "metadata": {},
   "outputs": [
    {
     "name": "stdout",
     "output_type": "stream",
     "text": [
      "<class 'str'>\n",
      "Claudia Jara Yañez\n"
     ]
    }
   ],
   "source": [
    "print(type(mi_nombre))  # Utilizo la función type() para ver el tipo de dato.\n",
    "print(mi_nombre)        # Utilizo la función print() para mostrar en pantalla la variable."
   ]
  },
  {
   "attachments": {},
   "cell_type": "markdown",
   "metadata": {},
   "source": [
    "5) Crear una variable que contenga un número complejo"
   ]
  },
  {
   "cell_type": "code",
   "execution_count": 10,
   "metadata": {},
   "outputs": [],
   "source": [
    "c = 1 + 2j      # Creo una variable llamada “c” que contiene un número complejo."
   ]
  },
  {
   "attachments": {},
   "cell_type": "markdown",
   "metadata": {},
   "source": [
    "6) Mostrar el tipo de dato de la variable crada en el punto 5"
   ]
  },
  {
   "cell_type": "code",
   "execution_count": 11,
   "metadata": {},
   "outputs": [
    {
     "data": {
      "text/plain": [
       "complex"
      ]
     },
     "execution_count": 11,
     "metadata": {},
     "output_type": "execute_result"
    }
   ],
   "source": [
    "type(c)"
   ]
  },
  {
   "cell_type": "code",
   "execution_count": 12,
   "metadata": {},
   "outputs": [
    {
     "name": "stdout",
     "output_type": "stream",
     "text": [
      "<class 'complex'>\n",
      "El tipo de dato de (1+2j) es: <class 'complex'>\n"
     ]
    }
   ],
   "source": [
    "type(c) \t\t\t\t\t\t\t\t\t\t# Utilizo la función type() para ver el tipo de dato de la variable “c”.\n",
    "print(type(c)) \t\t\t\t\t\t\t\t\t# Utilizo la función print() para mostrar en pantalla mi respuesta.\n",
    "print(f\"El tipo de dato de {c} es:\", type(c)) \t# Utilizo la función print() para mostrar en pantalla un mensaje como respuesta."
   ]
  },
  {
   "attachments": {},
   "cell_type": "markdown",
   "metadata": {},
   "source": [
    "7) Crear una variable que contenga el valor del número Pi redondeado a 4 decimales"
   ]
  },
  {
   "cell_type": "code",
   "execution_count": 13,
   "metadata": {},
   "outputs": [],
   "source": [
    "pi_num = 3.1416\t\t\t    # creo una variable que contenga el número pi con 4 decimales."
   ]
  },
  {
   "cell_type": "code",
   "execution_count": 14,
   "metadata": {},
   "outputs": [
    {
     "name": "stdout",
     "output_type": "stream",
     "text": [
      "3.1416\n"
     ]
    }
   ],
   "source": [
    "import math                 # importo el módulo math.\n",
    "pi_math = round(math.pi, 4) # utilizo la función round() para redondear el valor de pi a 4 decimales y guardo el resultado en la variable pi.\n",
    "print(pi_math) \t\t\t    # muestro el valor de pi en pantalla."
   ]
  },
  {
   "attachments": {},
   "cell_type": "markdown",
   "metadata": {},
   "source": [
    "8) Crear una variable que contenga el valor 'True' y otra que contenga el valor True. ¿Se trata de lo mismo?"
   ]
  },
  {
   "cell_type": "code",
   "execution_count": 15,
   "metadata": {},
   "outputs": [],
   "source": [
    "var1 = 'True'\t# creo la variable var1 con el valor True con comillas.\n",
    "var2 = True\t\t# creo otra variable var2 con el valor True sin comillas.\n",
    "# No, porque no se escriben igual, el primero es un strings (tiene comillas) y el segundo un booleano."
   ]
  },
  {
   "attachments": {},
   "cell_type": "markdown",
   "metadata": {},
   "source": [
    "9) Imprimir el tipo de dato correspondientes a las variables creadas en el punto 8"
   ]
  },
  {
   "cell_type": "code",
   "execution_count": 16,
   "metadata": {},
   "outputs": [
    {
     "name": "stdout",
     "output_type": "stream",
     "text": [
      "La variable 1 es de tipo  <class 'str'>  y la variable 2 es de tipo  <class 'bool'>\n"
     ]
    }
   ],
   "source": [
    "print(f'La variable 1 es de tipo ', type(var1), ' y la variable 2 es de tipo ', type(var2))\n",
    "# Utilizo la función print() para mostrar en pantalla y la función type() para ver el tipo de variable de cada uno."
   ]
  },
  {
   "attachments": {},
   "cell_type": "markdown",
   "metadata": {},
   "source": [
    "10) Asignar a una variable, la suma de un número entero y otro decimal"
   ]
  },
  {
   "cell_type": "code",
   "execution_count": 17,
   "metadata": {},
   "outputs": [],
   "source": [
    "d = 4 + 7.5\t\t\t# Creo una variable llamada \"d\" que sume de un número entero y otro decimal."
   ]
  },
  {
   "attachments": {},
   "cell_type": "markdown",
   "metadata": {},
   "source": [
    "11) Realizar una operación de suma de números complejos"
   ]
  },
  {
   "cell_type": "code",
   "execution_count": 18,
   "metadata": {},
   "outputs": [
    {
     "name": "stdout",
     "output_type": "stream",
     "text": [
      "(7+7j)\n"
     ]
    }
   ],
   "source": [
    "e = 2 + 3j\t\t\t# Creo la variable llamada “e” de números complejos.\n",
    "f = 5 + 4j\t\t\t# Creo otra variable llamada “f” de números complejos.\n",
    "e + f\t\t\t\t# Sumo ambas variables. Se muestra en pantalla el valor suma. \n",
    "print(e + f) \t\t# Utilizo la función print() para mostrar en pantalla la suma “e + f”. Se muestra el valor ()"
   ]
  },
  {
   "attachments": {},
   "cell_type": "markdown",
   "metadata": {},
   "source": [
    "12) Realizar una operación de suma de un número real y otro complejo"
   ]
  },
  {
   "cell_type": "code",
   "execution_count": 19,
   "metadata": {},
   "outputs": [
    {
     "name": "stdout",
     "output_type": "stream",
     "text": [
      "(9+3j)\n"
     ]
    }
   ],
   "source": [
    "a + e\t\t\t# Sumo las variables “a” (7) y “e” (2 + 3j) ya definidas. Se muestra en pantalla el valor suma.\n",
    "g = a + e\t\t# Utilizo las variables “a” y “e” ya definidas y designo la variable “g” para guardar esta suma.\n",
    "print(g) \t\t# Utilizo la función print() para mostrar en pantalla la variable “g” (a + e)"
   ]
  },
  {
   "attachments": {},
   "cell_type": "markdown",
   "metadata": {},
   "source": [
    "13) Realizar una operación de multiplicación"
   ]
  },
  {
   "cell_type": "code",
   "execution_count": 20,
   "metadata": {},
   "outputs": [
    {
     "name": "stdout",
     "output_type": "stream",
     "text": [
      "59.5\n"
     ]
    }
   ],
   "source": [
    "a * b\t\t\t# Multiplico las variables “a” (7) y “b” (8.5) ya definidas. Se muestra en pantalla el valor multiplicación.\n",
    "m = a * b\t\t# Utilizo las variables “a” y “b” ya definidas y designo la variable “m” para guardar esta multiplicación.\n",
    "print(m) \t\t# Utilizo la función print() para mostrar en pantalla la variable “m” (a * b)"
   ]
  },
  {
   "attachments": {},
   "cell_type": "markdown",
   "metadata": {},
   "source": [
    "14) Mostrar el resultado de elevar 2 a la octava potencia"
   ]
  },
  {
   "cell_type": "code",
   "execution_count": 21,
   "metadata": {},
   "outputs": [
    {
     "name": "stdout",
     "output_type": "stream",
     "text": [
      "256\n"
     ]
    }
   ],
   "source": [
    "print(2**8) \t# Utilizo la función print() para mostrar en pantalla el resultado de elevar 2 a la octava potencia"
   ]
  },
  {
   "attachments": {},
   "cell_type": "markdown",
   "metadata": {},
   "source": [
    "15) Obtener el cociente de la división de 27 entre 4 en una variable y luego mostrarla"
   ]
  },
  {
   "cell_type": "code",
   "execution_count": 22,
   "metadata": {},
   "outputs": [
    {
     "name": "stdout",
     "output_type": "stream",
     "text": [
      "6.75\n"
     ]
    }
   ],
   "source": [
    "div = 27 / 4\t\t# Utilizo dos constantes, 27 y 4 para guardar esta división (cociente).\n",
    "print(div) \t\t\t# Utilizo la función print() para mostrar en pantalla la variable “div” (27 / 4)"
   ]
  },
  {
   "attachments": {},
   "cell_type": "markdown",
   "metadata": {},
   "source": [
    "16) De la división anterior solamente mostrar la parte entera"
   ]
  },
  {
   "cell_type": "code",
   "execution_count": 23,
   "metadata": {},
   "outputs": [
    {
     "name": "stdout",
     "output_type": "stream",
     "text": [
      "6\n"
     ]
    }
   ],
   "source": [
    "div_parte_entera= 27 // 4\t\t\t# Utilizo dos constantes, 27 y 4 para guardar esta división (parte entera).\n",
    "print(div_parte_entera) \t\t\t# Utilizo la función print() para mostrar en pantalla la variable “div_parte_entera” (27 // 4)"
   ]
  },
  {
   "attachments": {},
   "cell_type": "markdown",
   "metadata": {},
   "source": [
    "17) De la división de 27 entre 4 mostrar solamente el resto"
   ]
  },
  {
   "cell_type": "code",
   "execution_count": 24,
   "metadata": {},
   "outputs": [
    {
     "name": "stdout",
     "output_type": "stream",
     "text": [
      "3\n"
     ]
    }
   ],
   "source": [
    "div_resto = 27 % 4\t\t\t# Utilizo dos constantes, 27 y 4 para guardar esta división (resto).\n",
    "print(div_resto) \t\t\t# Utilizo la función print() para mostrar en pantalla la variable “div_resto” (27 % 4)"
   ]
  },
  {
   "attachments": {},
   "cell_type": "markdown",
   "metadata": {},
   "source": [
    "18) Utilizando como operandos el número 4 y los resultados obtenidos en los puntos 16 y 17. Obtener 27 como resultado"
   ]
  },
  {
   "cell_type": "code",
   "execution_count": 25,
   "metadata": {},
   "outputs": [
    {
     "name": "stdout",
     "output_type": "stream",
     "text": [
      "27\n"
     ]
    }
   ],
   "source": [
    "6 * 4 + 3\t\t\t\t# Utilizo tres constantes obtenidas de la división de 27 entre 4. \n",
    "print(6 * 4 + 3) \t\t# Utilizo la función print() para mostrar en pantalla el resultado final. Dividendo = Divisor * Cociente + Resto"
   ]
  },
  {
   "attachments": {},
   "cell_type": "markdown",
   "metadata": {},
   "source": [
    "19) Utilizar el operador \"+\" en una operación donde intervengan solo variables alfanuméricas"
   ]
  },
  {
   "cell_type": "code",
   "execution_count": 26,
   "metadata": {},
   "outputs": [
    {
     "name": "stdout",
     "output_type": "stream",
     "text": [
      "Te Amo\n"
     ]
    }
   ],
   "source": [
    "x = 'Te '\t\t\t# Creo la variable alfanumérica llamada “x”.\n",
    "y = 'Amo'\t\t\t# Creo otra variable alfanumérica llamada “y”.\n",
    "print(x + y) \t\t# Utilizo la función print() para mostrar en pantalla el valor resultante."
   ]
  },
  {
   "attachments": {},
   "cell_type": "markdown",
   "metadata": {},
   "source": [
    "20) Evaluar si \"2\" es igual a 2. ¿Por qué ocurre eso?"
   ]
  },
  {
   "cell_type": "code",
   "execution_count": 27,
   "metadata": {},
   "outputs": [
    {
     "data": {
      "text/plain": [
       "False"
      ]
     },
     "execution_count": 27,
     "metadata": {},
     "output_type": "execute_result"
    }
   ],
   "source": [
    "2 == '2' \t# El operador de igualdad es \"==\", y se utiliza para evaluar si el valor de dos objetos es igual. "
   ]
  },
  {
   "attachments": {},
   "cell_type": "markdown",
   "metadata": {},
   "source": [
    "21) Utilizar las funciones de cambio de tipo de dato, para que la validación del punto 20 resulte verdadera"
   ]
  },
  {
   "cell_type": "code",
   "execution_count": 28,
   "metadata": {},
   "outputs": [
    {
     "data": {
      "text/plain": [
       "True"
      ]
     },
     "execution_count": 28,
     "metadata": {},
     "output_type": "execute_result"
    }
   ],
   "source": [
    "2 == int('2') \t# Como '2' es una cadena de caracteres, utilizo la función int('2') para convertirla en un entero. "
   ]
  },
  {
   "attachments": {},
   "cell_type": "markdown",
   "metadata": {},
   "source": [
    "22) ¿Por qué arroja error el siguiente cambio de tipo de datos? a = float('3,8')"
   ]
  },
  {
   "cell_type": "code",
   "execution_count": 29,
   "metadata": {},
   "outputs": [
    {
     "ename": "ValueError",
     "evalue": "could not convert string to float: '3,8'",
     "output_type": "error",
     "traceback": [
      "\u001b[1;31m---------------------------------------------------------------------------\u001b[0m",
      "\u001b[1;31mValueError\u001b[0m                                Traceback (most recent call last)",
      "Cell \u001b[1;32mIn[29], line 1\u001b[0m\n\u001b[1;32m----> 1\u001b[0m a \u001b[38;5;241m=\u001b[39m \u001b[38;5;28;43mfloat\u001b[39;49m\u001b[43m(\u001b[49m\u001b[38;5;124;43m'\u001b[39;49m\u001b[38;5;124;43m3,8\u001b[39;49m\u001b[38;5;124;43m'\u001b[39;49m\u001b[43m)\u001b[49m\n\u001b[0;32m      2\u001b[0m \u001b[38;5;66;03m# Se ha producido un error al tratar de convertir una cadena en un número decimal (float). \u001b[39;00m\n\u001b[0;32m      3\u001b[0m \u001b[38;5;66;03m# En este caso, '3,8' contiene una coma en lugar de punto, lo cual no es compatible con la función float(). \u001b[39;00m\n\u001b[0;32m      4\u001b[0m \u001b[38;5;66;03m# Por lo tanto, se genera el error y no se puede realizar la conversión a float.\u001b[39;00m\n",
      "\u001b[1;31mValueError\u001b[0m: could not convert string to float: '3,8'"
     ]
    }
   ],
   "source": [
    "a = float('3,8')\n",
    "# Se ha producido un error al tratar de convertir una cadena en un número decimal (float). \n",
    "# En este caso, '3,8' contiene una coma en lugar de punto, lo cual no es compatible con la función float(). \n",
    "# Por lo tanto, se genera el error y no se puede realizar la conversión a float."
   ]
  },
  {
   "attachments": {},
   "cell_type": "markdown",
   "metadata": {},
   "source": [
    "23) Crear una variable con el valor 3, y utilizar el operador '-=' para modificar su contenido y que de como resultado 2."
   ]
  },
  {
   "cell_type": "code",
   "execution_count": null,
   "metadata": {},
   "outputs": [
    {
     "name": "stdout",
     "output_type": "stream",
     "text": [
      "2\n"
     ]
    }
   ],
   "source": [
    "v = 3\t\t\t\t# Creo una variable llamada “v” que contenga el dato dado 3.\n",
    "v -= 1 \t\t\t\t# Utilizo el operador \"-=\" para modificar el contenido restando 1. \n",
    "print(v) \t\t\t# Utilizo la función print() para mostrar en pantalla el valor resultante."
   ]
  },
  {
   "attachments": {},
   "cell_type": "markdown",
   "metadata": {},
   "source": [
    "24) Realizar la operacion 1 << 2 ¿Por qué da ese resultado? ¿Qué es el sistema de numeración binario?\n",
    "\n",
    "1 = 00001, si me corro 2 lugares a la izquerda queda 100 que es 4 en números decimales"
   ]
  },
  {
   "cell_type": "code",
   "execution_count": null,
   "metadata": {},
   "outputs": [
    {
     "name": "stdout",
     "output_type": "stream",
     "text": [
      "4\n"
     ]
    }
   ],
   "source": [
    "1 << 2\t\t\t# El operador << se utiliza para realizar una operación de desplazamiento a la izquierda de bits.\n",
    "bin = 1 << 2 \t# Creo una variable llamada “bin” que contenga el dato dado.\n",
    "print(bin) \t\t# Utilizo la función print() para mostrar en pantalla el valor resultante.\n",
    "# La operación 1 << 2 desplaza los bits del número 1 dos posiciones hacia la izquierda.  1 = 0001, si me corro 2 lugares a la izquerda queda 100 en binario."
   ]
  },
  {
   "attachments": {},
   "cell_type": "markdown",
   "metadata": {},
   "source": [
    "25) Realizar la operación 2 + '2' ¿Por qué no está permitido? ¿Si los dos operandos serían del mismo tipo, siempre arrojaría el mismo resultado?"
   ]
  },
  {
   "cell_type": "code",
   "execution_count": null,
   "metadata": {},
   "outputs": [
    {
     "ename": "TypeError",
     "evalue": "unsupported operand type(s) for +: 'int' and 'str'",
     "output_type": "error",
     "traceback": [
      "\u001b[1;31m---------------------------------------------------------------------------\u001b[0m",
      "\u001b[1;31mTypeError\u001b[0m                                 Traceback (most recent call last)",
      "Cell \u001b[1;32mIn[31], line 1\u001b[0m\n\u001b[1;32m----> 1\u001b[0m \u001b[38;5;28mprint\u001b[39m(\u001b[38;5;241;43m2\u001b[39;49m\u001b[43m \u001b[49m\u001b[38;5;241;43m+\u001b[39;49m\u001b[43m \u001b[49m\u001b[38;5;124;43m'\u001b[39;49m\u001b[38;5;124;43m2\u001b[39;49m\u001b[38;5;124;43m'\u001b[39;49m)\n\u001b[0;32m      2\u001b[0m \u001b[38;5;66;03m# En este caso, 2 es un entero y ‘2’ es una cadena, por lo que no son del mismo tipo. Para sumarlas debemos tener ambos datos con el mismo tipo de variable, para ello, uso las funciones int(), float() o str()\u001b[39;00m\n",
      "\u001b[1;31mTypeError\u001b[0m: unsupported operand type(s) for +: 'int' and 'str'"
     ]
    }
   ],
   "source": [
    "print(2 + '2')\n",
    "# En este caso, 2 es un entero y ‘2’ es una cadena, por lo que no son del mismo tipo. Para sumarlas debemos tener ambos datos con el mismo tipo de variable, para ello, uso las funciones int(), float() o str()"
   ]
  },
  {
   "cell_type": "code",
   "execution_count": 4,
   "metadata": {},
   "outputs": [
    {
     "name": "stdout",
     "output_type": "stream",
     "text": [
      "4.0\n",
      "4\n",
      "22\n"
     ]
    }
   ],
   "source": [
    "print(float(2) + float('2'))\n",
    "print(int(2) + int('2'))\n",
    "print(str(2) + str('2'))"
   ]
  },
  {
   "attachments": {},
   "cell_type": "markdown",
   "metadata": {},
   "source": [
    "26) Realizar una operación válida entre valores de tipo entero y string"
   ]
  },
  {
   "cell_type": "code",
   "execution_count": null,
   "metadata": {},
   "outputs": [
    {
     "name": "stdout",
     "output_type": "stream",
     "text": [
      "este texto se repite este texto se repite este texto se repite 3 veces\n"
     ]
    }
   ],
   "source": [
    "var1 = 'este texto se repite '\t\t\t\t# Creo 2 variables llamadas “var1” y “var2” string y entero respectivamente.\n",
    "var2 = 3\n",
    "print(var1 * var2 + str(var2) + ' veces') \t\t# Utilizo las funciones *, +, +, y print() para mostrar en pantalla el valor resultante."
   ]
  }
 ],
 "metadata": {
  "interpreter": {
   "hash": "c85384e4cb51c8b72350f3a8712cc8351fdc3955e32a27f9b60c6242ab125f01"
  },
  "kernelspec": {
   "display_name": "Python 3 (ipykernel)",
   "language": "python",
   "name": "python3"
  },
  "language_info": {
   "codemirror_mode": {
    "name": "ipython",
    "version": 3
   },
   "file_extension": ".py",
   "mimetype": "text/x-python",
   "name": "python",
   "nbconvert_exporter": "python",
   "pygments_lexer": "ipython3",
   "version": "3.11.7"
  }
 },
 "nbformat": 4,
 "nbformat_minor": 4
}
