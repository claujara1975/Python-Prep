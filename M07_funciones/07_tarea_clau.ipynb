{
 "cells": [
  {
   "attachments": {},
   "cell_type": "markdown",
   "metadata": {},
   "source": [
    "## Funciones"
   ]
  },
  {
   "attachments": {},
   "cell_type": "markdown",
   "metadata": {},
   "source": [
    "1) Crear una función que reciba un número como parámetro y devuelva True si es primo y False si no lo es"
   ]
  },
  {
   "cell_type": "code",
   "execution_count": 64,
   "metadata": {},
   "outputs": [],
   "source": [
    "def verificar_primo(numero):\n",
    "    es_primo = True\n",
    "    if type (numero) != int:\n",
    "        return None\n",
    "    if numero <= 1:\n",
    "        print('Los primos son mayores o iguales que 2')\n",
    "        return None\n",
    "    if numero == 2:\n",
    "        return True\n",
    "    for i in range(2, numero):\n",
    "        if numero % i == 0:\n",
    "            es_primo = False\n",
    "            break\n",
    "    return es_primo"
   ]
  },
  {
   "cell_type": "code",
   "execution_count": 67,
   "metadata": {},
   "outputs": [
    {
     "name": "stdout",
     "output_type": "stream",
     "text": [
      "Los primos son mayores o iguales que 2\n"
     ]
    }
   ],
   "source": [
    "verificar_primo(1)"
   ]
  },
  {
   "attachments": {},
   "cell_type": "markdown",
   "metadata": {},
   "source": [
    "2) Utilizando la función del punto 1, realizar otra función que reciba de parámetro una lista de números y devuelva sólo aquellos que son primos en otra lista"
   ]
  },
  {
   "cell_type": "code",
   "execution_count": 70,
   "metadata": {},
   "outputs": [],
   "source": [
    "def extrae_primos_de_lista(lista):\n",
    "    lista_primos = []\n",
    "    if len(lista) > 0:\n",
    "        for elemento in lista:\n",
    "            if verificar_primo(elemento):\n",
    "                lista_primos.append(elemento)\n",
    "        return lista_primos"
   ]
  },
  {
   "cell_type": "code",
   "execution_count": 71,
   "metadata": {},
   "outputs": [
    {
     "data": {
      "text/plain": [
       "[2, 3, 5, 7, 11, 13, 17, 19]"
      ]
     },
     "execution_count": 71,
     "metadata": {},
     "output_type": "execute_result"
    }
   ],
   "source": [
    "lista_numeros = list(range(2, 21))\n",
    "extrae_primos_de_lista(lista_numeros)"
   ]
  },
  {
   "attachments": {},
   "cell_type": "markdown",
   "metadata": {},
   "source": [
    "3) Crear una función que al recibir una lista de números, devuelva el que más se repite y cuántas veces lo hace. Si hay más de un \"más repetido\", que devuelva cualquiera"
   ]
  },
  {
   "cell_type": "code",
   "execution_count": 12,
   "metadata": {},
   "outputs": [],
   "source": [
    "def numero_mas_repetido(lista):\n",
    "    contador = {}\n",
    "    for num in lista:\n",
    "        if num in contador.keys(): # si el numero esta en el dicc lo suma\n",
    "            contador[num] += 1     # cuenta la repetición del numero\n",
    "        else:\n",
    "            contador[num] = 1      # sino está lo toma = 1\n",
    "    maximo_repeticion = 0\n",
    "    mas_repetido = None\n",
    "    for numero, repeticion in contador.items():     # calcula un maximo\n",
    "        if repeticion > maximo_repeticion:\n",
    "            maximo_repeticion = repeticion\n",
    "            mas_repetido = numero\n",
    "    return mas_repetido  ,   maximo_repeticion"
   ]
  },
  {
   "cell_type": "code",
   "execution_count": 13,
   "metadata": {},
   "outputs": [
    {
     "data": {
      "text/plain": [
       "(1, 3)"
      ]
     },
     "execution_count": 13,
     "metadata": {},
     "output_type": "execute_result"
    }
   ],
   "source": [
    "lista_numeros = [1, 1, 5, 6, 8, 10, 22, 5, 6, 4 , 11, 9, 5, 1]\n",
    "numero_mas_repetido(lista_numeros)"
   ]
  },
  {
   "attachments": {},
   "cell_type": "markdown",
   "metadata": {},
   "source": [
    "4) Crear una función que convierta entre grados Celsius, Farenheit y Kelvin<br>\n",
    "Fórmula 1\t: (°C × 9/5) + 32 = °F<br>\n",
    "Fórmula 2\t: °C + 273.15 = °K<br>\n",
    "Debe recibir 3 parámetros: el valor, la medida de orígen y la medida de destino\n"
   ]
  },
  {
   "cell_type": "code",
   "execution_count": 15,
   "metadata": {},
   "outputs": [],
   "source": [
    "def conversion_grados(valor, origen, destino):\n",
    "    # Función que realiza la conversión de grados entre diferentes unidades\n",
    "    # Parámetros:\n",
    "    # - valor: el valor numérico a convertir\n",
    "    # - origen: la unidad de origen (celsius, farenheit, kelvin)\n",
    "    # - destino: la unidad de destino (celsius, farenheit, kelvin)\n",
    "    if origen == 'celsius':\n",
    "        if destino == 'celsius':\n",
    "            valor_destino = valor  # Si la unidad de origen y destino es la misma, no se realiza ninguna conversión\n",
    "        elif destino == 'farenheit':\n",
    "            valor_destino = (valor * 9 / 5) + 32  # Conversión de Celsius a Farenheit\n",
    "        elif destino == 'kelvin':\n",
    "            valor_destino = valor + 273.15  # Conversión de Celsius a Kelvin\n",
    "        else:\n",
    "            print('Parámetro de Destino incorrecto')  # Mensaje de error si el parámetro de destino no es válido\n",
    "    elif origen == 'farenheit':\n",
    "        if destino == 'celsius':\n",
    "            valor_destino = (valor - 32) * 5 / 9  # Conversión de Farenheit a Celsius\n",
    "        elif destino == 'farenheit':\n",
    "            valor_destino = valor  # Si la unidad de origen y destino es la misma, no se realiza ninguna conversión\n",
    "        elif destino == 'kelvin':\n",
    "            valor_destino = ((valor - 32) * 5 / 9) + 273.15  # Conversión de Farenheit a Kelvin\n",
    "        else:\n",
    "            print('Parámetro de Destino incorrecto')  # Mensaje de error si el parámetro de destino no es válido\n",
    "    elif origen == 'kelvin':\n",
    "        if destino == 'celsius':\n",
    "            valor_destino = valor - 273.15  # Conversión de Kelvin a Celsius\n",
    "        elif destino == 'farenheit':\n",
    "            valor_destino = ((valor - 273.15) * 9 / 5) + 32  # Conversión de Kelvin a Farenheit\n",
    "        elif destino == 'kelvin':\n",
    "            valor_destino = valor  # Si la unidad de origen y destino es la misma, no se realiza ninguna conversión\n",
    "        else:\n",
    "            print('Parámetro de Destino incorrecto')  # Mensaje de error si el parámetro de destino no es válido\n",
    "    else:\n",
    "        print('Parámetro de Origen incorrecto')  # Mensaje de error si el parámetro de origen no es válido\n",
    "    return valor_destino  # Retorna el valor convertido en la unidad de destino"
   ]
  },
  {
   "cell_type": "code",
   "execution_count": 20,
   "metadata": {},
   "outputs": [
    {
     "name": "stdout",
     "output_type": "stream",
     "text": [
      "1 grado Celsius a Celsius es: 1\n",
      "1 grado Celsius a Kelvin es: 274.15\n",
      "1 grado Celsius a Farenheit es: 33.8\n",
      "1 grado Kelvin a Celsius es: -272.15\n",
      "1 grado Kelvin a Kelvin es: 1\n",
      "1 grado Kelvin a Farenheit es: -457.87\n",
      "1 grado Farenheit a Celsius es: -17.22222222222222\n",
      "1 grado Farenheit a Kelvin es: 255.92777777777775\n",
      "1 grado Farenheit a Farenheit es: 1\n"
     ]
    }
   ],
   "source": [
    "print('1 grado Celsius a Celsius es:', conversion_grados(1, 'celsius', 'celsius'))\n",
    "print('1 grado Celsius a Kelvin es:', conversion_grados(1, 'celsius', 'kelvin'))\n",
    "print('1 grado Celsius a Farenheit es:', conversion_grados(1, 'celsius', 'farenheit'))\n",
    "print('1 grado Kelvin a Celsius es:', conversion_grados(1, 'kelvin', 'celsius'))\n",
    "print('1 grado Kelvin a Kelvin es:', conversion_grados(1, 'kelvin', 'kelvin'))\n",
    "print('1 grado Kelvin a Farenheit es:', conversion_grados(1, 'kelvin', 'farenheit'))\n",
    "print('1 grado Farenheit a Celsius es:', conversion_grados(1, 'farenheit', 'celsius'))\n",
    "print('1 grado Farenheit a Kelvin es:', conversion_grados(1, 'farenheit', 'kelvin'))\n",
    "print('1 grado Farenheit a Farenheit es:', conversion_grados(1, 'farenheit', 'farenheit'))"
   ]
  },
  {
   "attachments": {},
   "cell_type": "markdown",
   "metadata": {},
   "source": [
    "5) Iterando una lista con los tres valores posibles de temperatura que recibe la función del punto 5, hacer un print para cada combinación de los mismos:"
   ]
  },
  {
   "cell_type": "code",
   "execution_count": 24,
   "metadata": {},
   "outputs": [
    {
     "name": "stdout",
     "output_type": "stream",
     "text": [
      "20 grados celsius a celsius son 20 grados\n",
      "20 grados celsius a kelvin son 293.15 grados\n",
      "20 grados celsius a farenheit son 68.0 grados\n",
      "20 grados kelvin a celsius son -253.14999999999998 grados\n",
      "20 grados kelvin a kelvin son 20 grados\n",
      "20 grados kelvin a farenheit son -423.66999999999996 grados\n",
      "20 grados farenheit a celsius son -6.666666666666667 grados\n",
      "20 grados farenheit a kelvin son 266.4833333333333 grados\n",
      "20 grados farenheit a farenheit son 20 grados\n"
     ]
    }
   ],
   "source": [
    "unidades = ['celsius', 'kelvin', 'farenheit'] \n",
    "temperatura = 20\n",
    "for i in unidades:\n",
    "    for j in unidades:\n",
    "        conversion = conversion_grados(temperatura, i, j)\n",
    "        print(f\"{temperatura} grados {i} a {j} son {conversion} grados\")\n",
    "        "
   ]
  },
  {
   "attachments": {},
   "cell_type": "markdown",
   "metadata": {},
   "source": [
    "6) Armar una función que devuelva el factorial de un número. Tener en cuenta que el usuario puede equivocarse y enviar de parámetro un número no entero o negativo"
   ]
  },
  {
   "cell_type": "code",
   "execution_count": 17,
   "metadata": {},
   "outputs": [],
   "source": [
    "def calcular_factorial(numero):\n",
    "    if type(numero) != int:\n",
    "        return print(\"Debes ingresar un número entero\")\n",
    "        #return None\n",
    "    if numero <= 0:\n",
    "        return print(\"El número ingresado debe ser pun número entero positivo\")\n",
    "        #return None\n",
    "    if numero == 1:\n",
    "        return 1\n",
    "    numero = numero * calcular_factorial(numero - 1)\n",
    "    return numero"
   ]
  },
  {
   "cell_type": "code",
   "execution_count": 18,
   "metadata": {},
   "outputs": [
    {
     "name": "stdout",
     "output_type": "stream",
     "text": [
      "El número ingresado debe ser pun número entero positivo\n"
     ]
    }
   ],
   "source": [
    "calcular_factorial(0)"
   ]
  }
 ],
 "metadata": {
  "interpreter": {
   "hash": "c85384e4cb51c8b72350f3a8712cc8351fdc3955e32a27f9b60c6242ab125f01"
  },
  "kernelspec": {
   "display_name": "Python 3 (ipykernel)",
   "language": "python",
   "name": "python3"
  },
  "language_info": {
   "codemirror_mode": {
    "name": "ipython",
    "version": 3
   },
   "file_extension": ".py",
   "mimetype": "text/x-python",
   "name": "python",
   "nbconvert_exporter": "python",
   "pygments_lexer": "ipython3",
   "version": "3.11.7"
  }
 },
 "nbformat": 4,
 "nbformat_minor": 4
}
