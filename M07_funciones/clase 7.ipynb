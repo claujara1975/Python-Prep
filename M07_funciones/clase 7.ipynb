{
 "cells": [
  {
   "attachments": {},
   "cell_type": "markdown",
   "metadata": {},
   "source": [
    "## Funciones"
   ]
  },
  {
   "attachments": {},
   "cell_type": "markdown",
   "metadata": {},
   "source": [
    "1) Crear una función que reciba un número como parámetro y devuelva True si es primo y False si no lo es"
   ]
  },
  {
   "cell_type": "code",
   "execution_count": 1,
   "metadata": {},
   "outputs": [],
   "source": [
    "def verificar_primo(numero):\n",
    "    es_primo = True\n",
    "    for i in range(2, numero):\n",
    "        if numero % i == 0:\n",
    "            es_primo = False\n",
    "            break\n",
    "    return es_primo"
   ]
  },
  {
   "cell_type": "code",
   "execution_count": 3,
   "metadata": {},
   "outputs": [
    {
     "data": {
      "text/plain": [
       "False"
      ]
     },
     "execution_count": 3,
     "metadata": {},
     "output_type": "execute_result"
    }
   ],
   "source": [
    "verificar_primo(8)"
   ]
  },
  {
   "attachments": {},
   "cell_type": "markdown",
   "metadata": {},
   "source": [
    "2) Utilizando la función del punto 1, realizar otra función que reciba de parámetro una lista de números y devuelva sólo aquellos que son primos en otra lista"
   ]
  },
  {
   "cell_type": "code",
   "execution_count": 5,
   "metadata": {},
   "outputs": [],
   "source": [
    "def extraer_primos(lista):\n",
    "    lista_primos = []\n",
    "    for elemento in lista:\n",
    "        if verificar_primo(elemento):\n",
    "            lista_primos.append(elemento)\n",
    "    return lista_primos"
   ]
  },
  {
   "cell_type": "code",
   "execution_count": 7,
   "metadata": {},
   "outputs": [
    {
     "data": {
      "text/plain": [
       "[2, 3, 5, 7, 11, 13, 17, 19]"
      ]
     },
     "execution_count": 7,
     "metadata": {},
     "output_type": "execute_result"
    }
   ],
   "source": [
    "lista_numeros = list(range(2, 21))\n",
    "extraer_primos(lista_numeros)"
   ]
  },
  {
   "attachments": {},
   "cell_type": "markdown",
   "metadata": {},
   "source": [
    "3) Crear una función que al recibir una lista de números, devuelva el que más se repite y cuántas veces lo hace. Si hay más de un \"más repetido\", que devuelva cualquiera"
   ]
  },
  {
   "cell_type": "code",
   "execution_count": 10,
   "metadata": {},
   "outputs": [
    {
     "name": "stdout",
     "output_type": "stream",
     "text": [
      "Requirement already satisfied: collection in c:\\programdata\\anaconda3\\envs\\sh\\lib\\site-packages (0.1.6)Note: you may need to restart the kernel to use updated packages.\n",
      "\n"
     ]
    }
   ],
   "source": [
    "#pip install collection"
   ]
  },
  {
   "cell_type": "code",
   "execution_count": 9,
   "metadata": {},
   "outputs": [
    {
     "data": {
      "text/plain": [
       "Counter({'a': 3, 'c': 2, 'b': 1})"
      ]
     },
     "execution_count": 9,
     "metadata": {},
     "output_type": "execute_result"
    }
   ],
   "source": [
    "from collections import Counter \n",
    "lista_prueba = [\"a\", \"a\", \"a\", \"b\", \"c\", \"c\"]\n",
    "dicc_prueba = Counter(lista_prueba)\n",
    "dicc_prueba"
   ]
  },
  {
   "cell_type": "code",
   "execution_count": 12,
   "metadata": {},
   "outputs": [
    {
     "data": {
      "text/plain": [
       "2"
      ]
     },
     "execution_count": 12,
     "metadata": {},
     "output_type": "execute_result"
    }
   ],
   "source": [
    "dicc_prueba.get(\"c\")"
   ]
  },
  {
   "cell_type": "code",
   "execution_count": 13,
   "metadata": {},
   "outputs": [
    {
     "data": {
      "text/plain": [
       "'c'"
      ]
     },
     "execution_count": 13,
     "metadata": {},
     "output_type": "execute_result"
    }
   ],
   "source": [
    "max(dicc_prueba)"
   ]
  },
  {
   "cell_type": "code",
   "execution_count": 14,
   "metadata": {},
   "outputs": [],
   "source": [
    "def calcular_moda(lista):\n",
    "    conteo = Counter(lista)\n",
    "    llave = max(conteo, key = conteo.get)\n",
    "    valor = conteo[llave]\n",
    "\n",
    "    return llave, valor"
   ]
  },
  {
   "cell_type": "code",
   "execution_count": 16,
   "metadata": {},
   "outputs": [
    {
     "name": "stdout",
     "output_type": "stream",
     "text": [
      "El número 5 es el que más se repite, 3 veces\n"
     ]
    }
   ],
   "source": [
    "lista_numeros = [1, 1, 5, 6, 8, 10, 22, 5, 6, 4 , 11, 9, 5]\n",
    "numero, repeticiones =  calcular_moda(lista_numeros)\n",
    "print(f\"El número {numero} es el que más se repite, {repeticiones} veces\")"
   ]
  },
  {
   "attachments": {},
   "cell_type": "markdown",
   "metadata": {},
   "source": [
    "4) Crear una función que convierta entre grados Celsius, Farenheit y Kelvin<br>\n",
    "Fórmula 1\t: (°C × 9/5) + 32 = °F<br>\n",
    "Fórmula 2\t: °C + 273.15 = °K<br>\n",
    "Debe recibir 3 parámetros: el valor, la medida de orígen y la medida de destino\n"
   ]
  },
  {
   "cell_type": "markdown",
   "metadata": {},
   "source": [
    "Farenheit a celcius\n",
    "\n",
    "(c * 9/5) + 32 = f\n",
    "c * 9/5 = f - 32\n",
    "c = (f - 32) * 5/9\n",
    "\n",
    "Farenheit a kelvin\n",
    "c + 273.15 = k\n",
    "c = k - 273.15\n",
    "c = c\n",
    "(f - 32) * 5/9 = k - 273.15\n",
    "((f - 32) * 5/9) + 273.15 = k\n",
    "\n",
    "Kelvin a Farenheit\n",
    "(f - 32) * 5/9 = k - 273.15\n",
    "f - 32 = (k - 273.15) * 9/5\n",
    "f = ((k - 273.15) * 9/5) + 32"
   ]
  },
  {
   "cell_type": "code",
   "execution_count": 17,
   "metadata": {},
   "outputs": [],
   "source": [
    "def convertir_grados(valor, origen, destino):\n",
    "\n",
    "    if origen == \"celcius\":\n",
    "        if destino == \"celcius\":\n",
    "            valor_destino = valor\n",
    "        elif destino == \"farenheit\":\n",
    "            valor_destino = (valor * 9/5) + 32\n",
    "        elif destino == \"kelvin\":\n",
    "            valor_destino = valor + 273.15\n",
    "        else:\n",
    "            print(\"Debe pasar un destino correcto\")\n",
    "\n",
    "    elif origen == \"farenheit\":\n",
    "        if destino == \"celcius\":\n",
    "            valor_destino = (valor - 32) * 5/9\n",
    "        elif destino == \"farenheit\":\n",
    "            valor_destino = valor\n",
    "        elif destino == \"kelvin\":\n",
    "            valor_destino = ((valor - 32) * 5/9) + 273.15\n",
    "        else:\n",
    "            print(\"Debe pasar un destino correcto\")\n",
    "    \n",
    "    elif origen == \"kelvin\":\n",
    "        if destino == \"celcius\":\n",
    "            valor_destino = valor - 273.15\n",
    "        elif destino == \"farenheit\":\n",
    "            valor_destino = ((valor - 273.15) * 9/5) + 32\n",
    "        elif destino == \"kelvin\":\n",
    "            valor_destino = valor\n",
    "        else:\n",
    "            print(\"Debe pasar un destino correcto\")\n",
    "    \n",
    "    else:\n",
    "        print(\"Debe pasar un origen correcto\")\n",
    "\n",
    "    return valor_destino"
   ]
  },
  {
   "cell_type": "code",
   "execution_count": 18,
   "metadata": {},
   "outputs": [
    {
     "data": {
      "text/plain": [
       "274.15"
      ]
     },
     "execution_count": 18,
     "metadata": {},
     "output_type": "execute_result"
    }
   ],
   "source": [
    "convertir_grados(1, \"celcius\", \"kelvin\")"
   ]
  },
  {
   "attachments": {},
   "cell_type": "markdown",
   "metadata": {},
   "source": [
    "5) Iterando una lista con los tres valores posibles de temperatura que recibe la función del punto 5, hacer un print para cada combinación de los mismos:"
   ]
  },
  {
   "cell_type": "code",
   "execution_count": 21,
   "metadata": {},
   "outputs": [
    {
     "name": "stdout",
     "output_type": "stream",
     "text": [
      "5 grado celcius, a celcius es igual a 5\n",
      "5 grado celcius, a kelvin es igual a 278.15\n",
      "5 grado celcius, a farenheit es igual a 41.0\n",
      "5 grado kelvin, a celcius es igual a -268.15\n",
      "5 grado kelvin, a kelvin es igual a 5\n",
      "5 grado kelvin, a farenheit es igual a -450.66999999999996\n",
      "5 grado farenheit, a celcius es igual a -15.0\n",
      "5 grado farenheit, a kelvin es igual a 258.15\n",
      "5 grado farenheit, a farenheit es igual a 5\n"
     ]
    }
   ],
   "source": [
    "metricas = [\"celcius\", \"kelvin\", \"farenheit\"]\n",
    "for indice_origen in range(len(metricas)):\n",
    "    for indice_destino in range(len(metricas)):\n",
    "        valor_final = convertir_grados(5, metricas[indice_origen], metricas[indice_destino])\n",
    "        print(f\"5 grado {metricas[indice_origen]}, a {metricas[indice_destino]} es igual a {valor_final}\")"
   ]
  },
  {
   "attachments": {},
   "cell_type": "markdown",
   "metadata": {},
   "source": [
    "6) Armar una función que devuelva el factorial de un número. Tener en cuenta que el usuario puede equivocarse y enviar de parámetro un número no entero o negativo"
   ]
  },
  {
   "cell_type": "code",
   "execution_count": 24,
   "metadata": {},
   "outputs": [],
   "source": [
    "def calcular_factorial(numero):\n",
    "    if type(numero) != int:\n",
    "        return \"El número debe ser un entero\"\n",
    "    if numero < 0:\n",
    "        return \"El número debe ser positivo\"\n",
    "    \n",
    "    if numero == 0:\n",
    "        return 1\n",
    "    \n",
    "    numero = numero * calcular_factorial(numero - 1)\n",
    "\n",
    "    return numero"
   ]
  },
  {
   "cell_type": "code",
   "execution_count": 25,
   "metadata": {},
   "outputs": [
    {
     "data": {
      "text/plain": [
       "120"
      ]
     },
     "execution_count": 25,
     "metadata": {},
     "output_type": "execute_result"
    }
   ],
   "source": [
    "calcular_factorial(5)"
   ]
  }
 ],
 "metadata": {
  "interpreter": {
   "hash": "c85384e4cb51c8b72350f3a8712cc8351fdc3955e32a27f9b60c6242ab125f01"
  },
  "kernelspec": {
   "display_name": "Python 3 (ipykernel)",
   "language": "python",
   "name": "python3"
  },
  "language_info": {
   "codemirror_mode": {
    "name": "ipython",
    "version": 3
   },
   "file_extension": ".py",
   "mimetype": "text/x-python",
   "name": "python",
   "nbconvert_exporter": "python",
   "pygments_lexer": "ipython3",
   "version": "3.9.18"
  }
 },
 "nbformat": 4,
 "nbformat_minor": 4
}
